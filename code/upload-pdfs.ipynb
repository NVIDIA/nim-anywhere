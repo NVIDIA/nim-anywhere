{
 "cells": [
  {
   "cell_type": "markdown",
   "id": "b46b4ff2-41a1-4126-95aa-21d9d28d9ba5",
   "metadata": {},
   "source": [
    "# Upload PDFs to a Vector Database"
   ]
  },
  {
   "cell_type": "markdown",
   "id": "ab1e0b99-8c7d-4fbb-90b0-44f7216aaedd",
   "metadata": {},
   "source": [
    "## Overview\n",
    "This notebook will guide you through uploading a sample PDF dataset to a vector database. \n",
    "You should already have a sample [Milvus](https://milvus.io/docs/install_standalone-docker.md) vector database setup from the Workbench project, which is setup to run at port `19530`. "
   ]
  },
  {
   "cell_type": "code",
   "execution_count": null,
   "id": "68d55652-c2a9-443a-9d1f-49744b7bd9f7",
   "metadata": {},
   "outputs": [],
   "source": [
    "!pip install pypdf"
   ]
  },
  {
   "cell_type": "markdown",
   "id": "698fa242-5cf5-4abe-8bb5-3694ea5a3153",
   "metadata": {},
   "source": [
    "## Unzip Dataset\n",
    "The dataset used in this example is pdf files containing NVIDIA blogs and press releases. These PDF files have been scraped and stored in `../data/corp-comms-dataset.zip`."
   ]
  },
  {
   "cell_type": "code",
   "execution_count": null,
   "id": "114728f1-6ee9-4851-9042-32248fa39318",
   "metadata": {
    "scrolled": true
   },
   "outputs": [],
   "source": [
    "!unzip -n ../data/corp-comms-dataset.zip -d ../data/"
   ]
  },
  {
   "cell_type": "markdown",
   "id": "79cac865-2dfb-4331-a04a-13b0bb9fffef",
   "metadata": {},
   "source": [
    "## Setup NVIDIA Embedding Model\n",
    "This model, [embed-qa-4](https://build.nvidia.com/nvidia/embed-qa-4), is a fine-tuned E5-large model deployed as a NIM and hosted on the [NVIDIA API catalog](https://build.nvidia.com/). \n",
    "\n",
    "\n",
    "*⚠️* Be sure to populate config variables for the app!"
   ]
  },
  {
   "cell_type": "code",
   "execution_count": null,
   "id": "96d15495-e6c9-47fa-9381-6badf6284ca1",
   "metadata": {},
   "outputs": [],
   "source": [
    "from chain_server.configuration import config\n",
    "from langchain_nvidia_ai_endpoints import NVIDIAEmbeddings\n",
    "\n",
    "# \"nvapi-xxx\" is the NVIDIA API KEY format. If you have not configured this variable, be sure to do so. \n",
    "embedding_model = NVIDIAEmbeddings(\n",
    "    model=config.embedding_model.name,\n",
    "    base_url=str(config.embedding_model.url),\n",
    "    api_key=config.nvidia_api_key,\n",
    "    truncate=\"END\"\n",
    ")"
   ]
  },
  {
   "cell_type": "markdown",
   "id": "fd0e4873-1c6c-4ff7-9f8d-829ecf45c51e",
   "metadata": {},
   "source": [
    "## Setup Milvus Vector Database\n",
    "[Milvus](https://milvus.io/docs/install_standalone-docker.md) should already be running through NVIDIA Workbench.  Milvus is a database that stores, indexes, and manages massive embedding vectors."
   ]
  },
  {
   "cell_type": "code",
   "execution_count": null,
   "id": "a69a2a9f-4c1a-4977-b869-8ba747735519",
   "metadata": {},
   "outputs": [],
   "source": [
    "print(config.milvus.collection_name)"
   ]
  },
  {
   "cell_type": "code",
   "execution_count": null,
   "id": "8f5a101d-c8fb-483b-90de-5a2b0e884af8",
   "metadata": {},
   "outputs": [],
   "source": [
    "from langchain_milvus.vectorstores.milvus import Milvus\n",
    "\n",
    "vector_store = Milvus(\n",
    "    embedding_function=embedding_model,\n",
    "    connection_args={\"uri\": config.milvus.url},\n",
    "    collection_name=config.milvus.collection_name,\n",
    "    auto_id=True,\n",
    ")"
   ]
  },
  {
   "cell_type": "markdown",
   "id": "0ab2e69f-ac17-401a-be91-354808184722",
   "metadata": {},
   "source": [
    "## Upload PDFs to Milvus Vector Database"
   ]
  },
  {
   "cell_type": "code",
   "execution_count": null,
   "id": "9c0663f5-a1d0-4047-825d-373ce7ff1f9c",
   "metadata": {},
   "outputs": [],
   "source": [
    "import glob\n",
    "\n",
    "from langchain_community.document_loaders import PyPDFLoader\n",
    "from langchain.text_splitter import RecursiveCharacterTextSplitter\n",
    "\n",
    "def upload_document(file_path):\n",
    "    loader = PyPDFLoader(str(file_path))\n",
    "    data = loader.load()\n",
    "    text_splitter = RecursiveCharacterTextSplitter()\n",
    "    all_splits = text_splitter.split_documents(data)\n",
    "    vector_store.add_documents(documents=all_splits)\n",
    "\n",
    "    return f\"uploaded {file_path}\"\n",
    "\n",
    "def upload_pdf_files(folder_path, num_files):\n",
    "    i = 0\n",
    "    for file_path in glob.glob(f\"{folder_path}/*.pdf\"):\n",
    "        print(upload_document(file_path))\n",
    "        i += 1\n",
    "        if i >= num_files:\n",
    "            break"
   ]
  },
  {
   "cell_type": "code",
   "execution_count": null,
   "id": "4fe089aa-e00c-4bea-bfbd-a1db0c8d4757",
   "metadata": {},
   "outputs": [],
   "source": [
    "NUM_DOCS_TO_UPLOAD=10\n",
    "upload_pdf_files(\"../data/dataset\", NUM_DOCS_TO_UPLOAD)"
   ]
  },
  {
   "cell_type": "code",
   "execution_count": null,
   "id": "06f4d8a0-666d-49c4-bf7a-bfa317fdea65",
   "metadata": {},
   "outputs": [],
   "source": [
    "query = \"How is NVIDIA working with Mercedes Benz?\"\n",
    "docs = vector_store.similarity_search(query)\n",
    "print(docs[0])"
   ]
  },
  {
   "cell_type": "code",
   "execution_count": null,
   "id": "9389d43b-9aa2-4c94-9159-804cff1c5aea",
   "metadata": {},
   "outputs": [],
   "source": []
  }
 ],
 "metadata": {
  "kernelspec": {
   "display_name": "Python 3 (ipykernel)",
   "language": "python",
   "name": "python3"
  },
  "language_info": {
   "codemirror_mode": {
    "name": "ipython",
    "version": 3
   },
   "file_extension": ".py",
   "mimetype": "text/x-python",
   "name": "python",
   "nbconvert_exporter": "python",
   "pygments_lexer": "ipython3",
   "version": "3.10.12"
  }
 },
 "nbformat": 4,
 "nbformat_minor": 5
}
